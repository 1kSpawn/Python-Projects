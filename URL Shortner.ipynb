{
 "cells": [
  {
   "cell_type": "code",
   "execution_count": 1,
   "id": "6637d125",
   "metadata": {},
   "outputs": [
    {
     "name": "stdout",
     "output_type": "stream",
     "text": [
      "[!] Got access token: 440542617b7bd201aa9179bb24eb29a006d9d5ab\n",
      "Shortened URL: https://bit.ly/3AwyIYZ\n"
     ]
    }
   ],
   "source": [
    "import requests\n",
    "\n",
    "# account credentials\n",
    "\n",
    "username = \"th3force\"\n",
    "\n",
    "password = \"BootyPussy1\"\n",
    "\n",
    "\n",
    "# get the access token\n",
    "\n",
    "auth_res = requests.post(\"https://api-ssl.bitly.com/oauth/access_token\", auth=(username, password))\n",
    "\n",
    "if auth_res.status_code == 200:\n",
    "    \n",
    "    # if response is OK, get the access token\n",
    "    \n",
    "    access_token = auth_res.content.decode()\n",
    "    \n",
    "    print(\"[!] Got access token:\", access_token)\n",
    "    \n",
    "else:\n",
    "    \n",
    "    print(\"[!] Cannot get access token, exiting...\")\n",
    "    \n",
    "    exit()\n",
    "    \n",
    "    \n",
    "# construct the request headers with authorization\n",
    "\n",
    "headers = {\"Authorization\": f\"Bearer {access_token}\"}\n",
    "\n",
    "\n",
    "# get the group UID associated wit our account\n",
    "\n",
    "groups_res = requests.get(\"https://api-ssl.bitly.com/v4/groups\", headers=headers)\n",
    "\n",
    "if groups_res.status_code == 200:\n",
    "    \n",
    "    # if response is OK, get the GUID\n",
    "    \n",
    "    groups_data = groups_res.json()['groups'][0]\n",
    "    \n",
    "    guid = groups_data['guid']\n",
    "    \n",
    "else:\n",
    "    \n",
    "    print(\"[!] Cannot get GUID, exiting...\")\n",
    "    \n",
    "    exit()\n",
    "    \n",
    "    \n",
    "# the URl you want to shorten\n",
    "\n",
    "url = \"https://www.thepythoncode.com/topic/using-apis-in-python\"\n",
    "\n",
    "# make the POST request to get shortened URL for 'url'\n",
    "\n",
    "shorten_res = requests.post(\"https://api-ssl.bitly.com/v4/shorten\", json={\"groups_guid\": guid, \"long_url\": url}, headers=headers)\n",
    "\n",
    "if shorten_res.status_code == 200:\n",
    "    \n",
    "    # if response is OK, get the shortened URL\n",
    "    \n",
    "    link = shorten_res.json().get(\"link\")\n",
    "    \n",
    "    print(\"Shortened URL:\", link)"
   ]
  }
 ],
 "metadata": {
  "kernelspec": {
   "display_name": "Python 3 (ipykernel)",
   "language": "python",
   "name": "python3"
  },
  "language_info": {
   "codemirror_mode": {
    "name": "ipython",
    "version": 3
   },
   "file_extension": ".py",
   "mimetype": "text/x-python",
   "name": "python",
   "nbconvert_exporter": "python",
   "pygments_lexer": "ipython3",
   "version": "3.9.7"
  }
 },
 "nbformat": 4,
 "nbformat_minor": 5
}
