{
 "cells": [
  {
   "cell_type": "code",
   "execution_count": 1,
   "id": "43805954",
   "metadata": {},
   "outputs": [
    {
     "name": "stdout",
     "output_type": "stream",
     "text": [
      "Shortened URL: https://cutt.ly/qOwiJCr\n"
     ]
    }
   ],
   "source": [
    "import requests\n",
    "\n",
    "api_key = \"8474893ec78fb45b100ee6c74c9c07b7f9680\"\n",
    "\n",
    "# the URL you want to shorten\n",
    "\n",
    "url = \"https://planetary-science.org/astronomy/the-celestial-globe/\"\n",
    "\n",
    "# preferred name in the URL\n",
    "\n",
    "api_url = f\"https://cutt.ly/api/api.php?key={api_key}&short={url}\"\n",
    "\n",
    "# or\n",
    "\n",
    "# api_url = f\"https://cutt.ly/api/api.php?key={api_key}&short={url}&name=some_unique_name\"\n",
    "\n",
    "# make the request\n",
    "\n",
    "data = requests.get(api_url).json()[\"url\"]\n",
    "\n",
    "if data [\"status\"] == 7:\n",
    "    \n",
    "    # OK, get shortened URL\n",
    "    \n",
    "    shortened_url = data[\"shortLink\"]\n",
    "    \n",
    "    print(\"Shortened URL:\", shortened_url)\n",
    "    \n",
    "else:\n",
    "    \n",
    "    print(\"[!] Error Shortening URL:\", data)"
   ]
  }
 ],
 "metadata": {
  "kernelspec": {
   "display_name": "Python 3 (ipykernel)",
   "language": "python",
   "name": "python3"
  },
  "language_info": {
   "codemirror_mode": {
    "name": "ipython",
    "version": 3
   },
   "file_extension": ".py",
   "mimetype": "text/x-python",
   "name": "python",
   "nbconvert_exporter": "python",
   "pygments_lexer": "ipython3",
   "version": "3.9.7"
  }
 },
 "nbformat": 4,
 "nbformat_minor": 5
}
