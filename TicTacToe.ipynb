{
 "cells": [
  {
   "cell_type": "code",
   "execution_count": 1,
   "id": "2f70e336",
   "metadata": {},
   "outputs": [],
   "source": [
    "def display_board(board):\n",
    "    \n",
    "    \n",
    "    print(board[1]+'|'+board[2]+'|'+board[3])\n",
    "    print(board[4]+'|'+board[5]+'|'+board[6])    \n",
    "    print(board[7]+'|'+board[8]+'|'+board[9])"
   ]
  },
  {
   "cell_type": "code",
   "execution_count": 2,
   "id": "8830ef1b",
   "metadata": {},
   "outputs": [
    {
     "name": "stdout",
     "output_type": "stream",
     "text": [
      "X|O|X\n",
      "O|X|O\n",
      "X|O|X\n"
     ]
    }
   ],
   "source": [
    "test_board = ['#','X','O','X','O','X','O','X','O','X']\n",
    "display_board(test_board)"
   ]
  },
  {
   "cell_type": "code",
   "execution_count": 3,
   "id": "7a0de64c",
   "metadata": {},
   "outputs": [],
   "source": [
    "def player_input():\n",
    "    \n",
    "    '...'\n",
    "    'OUTPUT = (Player 1 marker, Player 2 marker)'\n",
    "    '...'\n",
    "    \n",
    "    marker = ' '\n",
    "    \n",
    "    while marker != 'X' and marker != 'O':\n",
    "        marker = input('Player1: Choose X or O: ').upper()\n",
    "    if marker == 'X':\n",
    "        return('X','O')\n",
    "    else:\n",
    "        return('O','X')"
   ]
  },
  {
   "cell_type": "code",
   "execution_count": 4,
   "id": "84403062",
   "metadata": {},
   "outputs": [
    {
     "name": "stdout",
     "output_type": "stream",
     "text": [
      "Player1: Choose X or O: x\n"
     ]
    }
   ],
   "source": [
    "player1_marker, player2_marker = player_input()"
   ]
  },
  {
   "cell_type": "code",
   "execution_count": 5,
   "id": "d4e4888d",
   "metadata": {},
   "outputs": [],
   "source": [
    "def place_marker(board, marker, position):\n",
    "    \n",
    "    board[position] = marker"
   ]
  },
  {
   "cell_type": "code",
   "execution_count": 6,
   "id": "25e82cae",
   "metadata": {},
   "outputs": [
    {
     "name": "stdout",
     "output_type": "stream",
     "text": [
      "X|O|X\n",
      "O|X|O\n",
      "X|$|X\n"
     ]
    }
   ],
   "source": [
    "place_marker(test_board,'$',8)\n",
    "display_board(test_board)"
   ]
  },
  {
   "cell_type": "code",
   "execution_count": 7,
   "id": "a388914a",
   "metadata": {},
   "outputs": [],
   "source": [
    "def win_check(board,mark):\n",
    "    \n",
    "    # WIN TIC TAC TOE?\n",
    "    \n",
    "   \n",
    "    return ((board[7] == board[8] == board[9] == mark) or # across the top\n",
    "    (board[4] == board[5] == board[6] == mark) or # across the middle\n",
    "    (board[1] == board[2] == board[3] == mark) or # across the bottom\n",
    "    (board[7] == board[4] == board[1] == mark) or # down the left side\n",
    "    (board[8] == board[5] == board[2] == mark) or # down the middle\n",
    "    (board[9] == board[6] == board[3] == mark) or # down the right side\n",
    "    (board[7] == board[5] == board[3] == mark) or # diagonal\n",
    "    (board[9] == board[5] == board[1] == mark)) # diagonal"
   ]
  },
  {
   "cell_type": "code",
   "execution_count": 8,
   "id": "f83120a0",
   "metadata": {},
   "outputs": [
    {
     "name": "stdout",
     "output_type": "stream",
     "text": [
      "X|O|X\n",
      "O|X|O\n",
      "X|$|X\n"
     ]
    },
    {
     "data": {
      "text/plain": [
       "True"
      ]
     },
     "execution_count": 8,
     "metadata": {},
     "output_type": "execute_result"
    }
   ],
   "source": [
    "display_board(test_board)\n",
    "win_check(test_board,'X')"
   ]
  },
  {
   "cell_type": "code",
   "execution_count": 9,
   "id": "dc03d578",
   "metadata": {},
   "outputs": [],
   "source": [
    "import random\n",
    "\n",
    "def choose_first():\n",
    "    \n",
    "    flip = random.randint(0,1)\n",
    "    \n",
    "    if flip == 0:\n",
    "        return 'Player 1'\n",
    "    else:\n",
    "        return 'Player 2'"
   ]
  },
  {
   "cell_type": "code",
   "execution_count": 10,
   "id": "25915728",
   "metadata": {},
   "outputs": [],
   "source": [
    "def space_check(board, position):\n",
    "    return board[position] == ' '"
   ]
  },
  {
   "cell_type": "code",
   "execution_count": 11,
   "id": "f96f7ebd",
   "metadata": {},
   "outputs": [],
   "source": [
    "def full_board_check(board):\n",
    "    \n",
    "    for i in range(1,10):\n",
    "        if space_check(board,i):\n",
    "            return False\n",
    "        \n",
    "    # BOARD IS FULL IF WE RETURN TRUE\n",
    "    return True"
   ]
  },
  {
   "cell_type": "code",
   "execution_count": 12,
   "id": "44d07a38",
   "metadata": {},
   "outputs": [],
   "source": [
    "def player_choice(board):\n",
    "    \n",
    "    position = 0 \n",
    "    \n",
    "    while position not in [1,2,3,4,5,6,7,8,9] or not space_check(board,position):\n",
    "        position = int(input('Choose a position: (1-9) '))\n",
    "        \n",
    "        return position"
   ]
  },
  {
   "cell_type": "code",
   "execution_count": 13,
   "id": "98dc46c3",
   "metadata": {},
   "outputs": [],
   "source": [
    "def replay():\n",
    "    \n",
    "    choice = input(\"Play again? Enter Yes or No\")\n",
    "    \n",
    "    return choice == 'Yes'"
   ]
  },
  {
   "cell_type": "code",
   "execution_count": null,
   "id": "c15b55ff",
   "metadata": {},
   "outputs": [
    {
     "name": "stdout",
     "output_type": "stream",
     "text": [
      "Welcome to tic tac toe\n"
     ]
    }
   ],
   "source": [
    "# WHile loop to keep running the game\n",
    "print('Welcome to tic tac toe')\n",
    "\n",
    "while True:\n",
    "    \n",
    "    # Play Game\n",
    "    \n",
    "    ## Set everything up (Board, Whos First, Choose Markers X,O)\n",
    "    the_board = [' ']*10\n",
    "    player1_marker,player2_marker = player_input()\n",
    "    \n",
    "    turn = choose_first()\n",
    "    print(turn + ' will go first')\n",
    "    \n",
    "    play_game = input('Ready to play? y or n?')\n",
    "    \n",
    "    if play_game == 'y':\n",
    "        game_on = True\n",
    "    else:\n",
    "        game_on = False\n",
    "        \n",
    "    ## Game Play\n",
    "    \n",
    "    while game_on:\n",
    "        \n",
    "        if turn == 'Player 1':\n",
    "            \n",
    "            # Show the board\n",
    "            display_board(the_board)\n",
    "            # Choose a position\n",
    "            position = player_choice(the_board)\n",
    "            #Place the marker on the position\n",
    "            place_marker(the_board,player1_marker,position)\n",
    "            \n",
    "            # Check if they won\n",
    "            if win_check(the_board,player1_marker):\n",
    "                display_board(the_board)\n",
    "                print('Player 1 Has Won!!')\n",
    "                game_on = False\n",
    "            else:\n",
    "                if full_board_check(the_board):\n",
    "                    display_board(the_board)\n",
    "                    print(\"Tie Game!\")\n",
    "                    game_on = False\n",
    "                else:\n",
    "                    turn = 'Player 2'\n",
    "    \n",
    "        else:\n",
    "            # Show the board\n",
    "            display_board(the_board)\n",
    "            # Choose a position\n",
    "            position = player_choice(the_board)\n",
    "            #Place the marker on the position\n",
    "            place_marker(the_board,player2_marker,position)\n",
    "            \n",
    "            # Check if they won\n",
    "            if win_check(the_board,player2_marker):\n",
    "                display_board(the_board)\n",
    "                print('Player 2 Has Won!!')\n",
    "                game_on = False\n",
    "            else:\n",
    "                if full_board_check(the_board):\n",
    "                    display_board(the_board)\n",
    "                    print(\"Tie Game!\")\n",
    "                    game_on = False\n",
    "                else:\n",
    "                    turn = 'Player 1'\n",
    "    \n",
    "    \n",
    "    \n",
    "    if not replay():\n",
    "        break\n",
    "# Break out of while loop on replay()"
   ]
  },
  {
   "cell_type": "code",
   "execution_count": null,
   "id": "78e8383d",
   "metadata": {},
   "outputs": [],
   "source": []
  }
 ],
 "metadata": {
  "kernelspec": {
   "display_name": "Python 3 (ipykernel)",
   "language": "python",
   "name": "python3"
  },
  "language_info": {
   "codemirror_mode": {
    "name": "ipython",
    "version": 3
   },
   "file_extension": ".py",
   "mimetype": "text/x-python",
   "name": "python",
   "nbconvert_exporter": "python",
   "pygments_lexer": "ipython3",
   "version": "3.9.7"
  }
 },
 "nbformat": 4,
 "nbformat_minor": 5
}
